{
  "nbformat": 4,
  "nbformat_minor": 0,
  "metadata": {
    "colab": {
      "provenance": []
    },
    "kernelspec": {
      "name": "python3",
      "display_name": "Python 3"
    },
    "language_info": {
      "name": "python"
    }
  },
  "cells": [
    {
      "cell_type": "code",
      "execution_count": 1,
      "metadata": {
        "colab": {
          "base_uri": "https://localhost:8080/"
        },
        "id": "Fy8iBcCUYuej",
        "outputId": "32adccd0-c626-48f2-c357-4dd70ca1d8f4"
      },
      "outputs": [
        {
          "output_type": "stream",
          "name": "stderr",
          "text": [
            "[nltk_data] Downloading package punkt to /root/nltk_data...\n",
            "[nltk_data]   Unzipping tokenizers/punkt.zip.\n"
          ]
        },
        {
          "output_type": "execute_result",
          "data": {
            "text/plain": [
              "True"
            ]
          },
          "metadata": {},
          "execution_count": 1
        }
      ],
      "source": [
        "import nltk\n",
        "import pandas as pd\n",
        "from nltk.tokenize import sent_tokenize\n",
        "from nltk.tokenize import word_tokenize\n",
        "nltk.download('punkt')\n"
      ]
    },
    {
      "cell_type": "code",
      "source": [
        "def segmenter(texte):\n",
        "    phrases = sent_tokenize(texte)\n",
        "    return phrases"
      ],
      "metadata": {
        "id": "AguI7kahY7U6"
      },
      "execution_count": 2,
      "outputs": []
    },
    {
      "cell_type": "code",
      "source": [
        "#Exemple de segmentation\n",
        "text=\"I think that I would agree to leave my country if I were given the opportunity to work abroad. I would become a beautician and create my own business so for that, I must know all practical experiences to be the best. I would go abroad to increase my skills. Moreover, I would have the possibility to discover a new country such as Australia with its various cultures, unknown people and its different and more beautiful environment.\"\n",
        "r=segmenter(text)\n",
        "r"
      ],
      "metadata": {
        "colab": {
          "base_uri": "https://localhost:8080/"
        },
        "id": "JWhRJel-ZAXJ",
        "outputId": "e0a37bca-18a2-4c67-cec5-70713efb536a"
      },
      "execution_count": 3,
      "outputs": [
        {
          "output_type": "execute_result",
          "data": {
            "text/plain": [
              "['I think that I would agree to leave my country if I were given the opportunity to work abroad.',\n",
              " 'I would become a beautician and create my own business so for that, I must know all practical experiences to be the best.',\n",
              " 'I would go abroad to increase my skills.',\n",
              " 'Moreover, I would have the possibility to discover a new country such as Australia with its various cultures, unknown people and its different and more beautiful environment.']"
            ]
          },
          "metadata": {},
          "execution_count": 3
        }
      ]
    },
    {
      "cell_type": "code",
      "source": [
        "def fenetre_coulissante(texte, longueur):\n",
        "    phrases=segmenter(texte)\n",
        "    df=pd.DataFrame(columns=['premise','hypotesysis'])\n",
        "    for i in range(len(phrases)):\n",
        "        for j in range(i+1, i+longueur+1):\n",
        "                  try:\n",
        "                    df=df.append({'premise':phrases[i],'hypotesysis':phrases[j]},ignore_index=True)\n",
        "                  except IndexError: \n",
        "                    j = i+longueur+1 \n",
        "    return df"
      ],
      "metadata": {
        "id": "Gdvpc9h-aYWZ"
      },
      "execution_count": 4,
      "outputs": []
    },
    {
      "cell_type": "code",
      "source": [
        "df1 = fenetre_coulissante(text, 5)\n",
        "df1"
      ],
      "metadata": {
        "colab": {
          "base_uri": "https://localhost:8080/",
          "height": 238
        },
        "id": "F5k-Xdxhb3aX",
        "outputId": "b0f9da56-05a7-49c2-d2fa-cca5d5389109"
      },
      "execution_count": 46,
      "outputs": [
        {
          "output_type": "execute_result",
          "data": {
            "text/plain": [
              "                                             premise  \\\n",
              "0  I think that I would agree to leave my country...   \n",
              "1  I think that I would agree to leave my country...   \n",
              "2  I think that I would agree to leave my country...   \n",
              "3  I would become a beautician and create my own ...   \n",
              "4  I would become a beautician and create my own ...   \n",
              "5           I would go abroad to increase my skills.   \n",
              "\n",
              "                                         hypotesysis  \n",
              "0  I would become a beautician and create my own ...  \n",
              "1           I would go abroad to increase my skills.  \n",
              "2  Moreover, I would have the possibility to disc...  \n",
              "3           I would go abroad to increase my skills.  \n",
              "4  Moreover, I would have the possibility to disc...  \n",
              "5  Moreover, I would have the possibility to disc...  "
            ],
            "text/html": [
              "\n",
              "  <div id=\"df-d5516a21-6692-446e-87bd-d11610869144\">\n",
              "    <div class=\"colab-df-container\">\n",
              "      <div>\n",
              "<style scoped>\n",
              "    .dataframe tbody tr th:only-of-type {\n",
              "        vertical-align: middle;\n",
              "    }\n",
              "\n",
              "    .dataframe tbody tr th {\n",
              "        vertical-align: top;\n",
              "    }\n",
              "\n",
              "    .dataframe thead th {\n",
              "        text-align: right;\n",
              "    }\n",
              "</style>\n",
              "<table border=\"1\" class=\"dataframe\">\n",
              "  <thead>\n",
              "    <tr style=\"text-align: right;\">\n",
              "      <th></th>\n",
              "      <th>premise</th>\n",
              "      <th>hypotesysis</th>\n",
              "    </tr>\n",
              "  </thead>\n",
              "  <tbody>\n",
              "    <tr>\n",
              "      <th>0</th>\n",
              "      <td>I think that I would agree to leave my country...</td>\n",
              "      <td>I would become a beautician and create my own ...</td>\n",
              "    </tr>\n",
              "    <tr>\n",
              "      <th>1</th>\n",
              "      <td>I think that I would agree to leave my country...</td>\n",
              "      <td>I would go abroad to increase my skills.</td>\n",
              "    </tr>\n",
              "    <tr>\n",
              "      <th>2</th>\n",
              "      <td>I think that I would agree to leave my country...</td>\n",
              "      <td>Moreover, I would have the possibility to disc...</td>\n",
              "    </tr>\n",
              "    <tr>\n",
              "      <th>3</th>\n",
              "      <td>I would become a beautician and create my own ...</td>\n",
              "      <td>I would go abroad to increase my skills.</td>\n",
              "    </tr>\n",
              "    <tr>\n",
              "      <th>4</th>\n",
              "      <td>I would become a beautician and create my own ...</td>\n",
              "      <td>Moreover, I would have the possibility to disc...</td>\n",
              "    </tr>\n",
              "    <tr>\n",
              "      <th>5</th>\n",
              "      <td>I would go abroad to increase my skills.</td>\n",
              "      <td>Moreover, I would have the possibility to disc...</td>\n",
              "    </tr>\n",
              "  </tbody>\n",
              "</table>\n",
              "</div>\n",
              "      <button class=\"colab-df-convert\" onclick=\"convertToInteractive('df-d5516a21-6692-446e-87bd-d11610869144')\"\n",
              "              title=\"Convert this dataframe to an interactive table.\"\n",
              "              style=\"display:none;\">\n",
              "        \n",
              "  <svg xmlns=\"http://www.w3.org/2000/svg\" height=\"24px\"viewBox=\"0 0 24 24\"\n",
              "       width=\"24px\">\n",
              "    <path d=\"M0 0h24v24H0V0z\" fill=\"none\"/>\n",
              "    <path d=\"M18.56 5.44l.94 2.06.94-2.06 2.06-.94-2.06-.94-.94-2.06-.94 2.06-2.06.94zm-11 1L8.5 8.5l.94-2.06 2.06-.94-2.06-.94L8.5 2.5l-.94 2.06-2.06.94zm10 10l.94 2.06.94-2.06 2.06-.94-2.06-.94-.94-2.06-.94 2.06-2.06.94z\"/><path d=\"M17.41 7.96l-1.37-1.37c-.4-.4-.92-.59-1.43-.59-.52 0-1.04.2-1.43.59L10.3 9.45l-7.72 7.72c-.78.78-.78 2.05 0 2.83L4 21.41c.39.39.9.59 1.41.59.51 0 1.02-.2 1.41-.59l7.78-7.78 2.81-2.81c.8-.78.8-2.07 0-2.86zM5.41 20L4 18.59l7.72-7.72 1.47 1.35L5.41 20z\"/>\n",
              "  </svg>\n",
              "      </button>\n",
              "      \n",
              "  <style>\n",
              "    .colab-df-container {\n",
              "      display:flex;\n",
              "      flex-wrap:wrap;\n",
              "      gap: 12px;\n",
              "    }\n",
              "\n",
              "    .colab-df-convert {\n",
              "      background-color: #E8F0FE;\n",
              "      border: none;\n",
              "      border-radius: 50%;\n",
              "      cursor: pointer;\n",
              "      display: none;\n",
              "      fill: #1967D2;\n",
              "      height: 32px;\n",
              "      padding: 0 0 0 0;\n",
              "      width: 32px;\n",
              "    }\n",
              "\n",
              "    .colab-df-convert:hover {\n",
              "      background-color: #E2EBFA;\n",
              "      box-shadow: 0px 1px 2px rgba(60, 64, 67, 0.3), 0px 1px 3px 1px rgba(60, 64, 67, 0.15);\n",
              "      fill: #174EA6;\n",
              "    }\n",
              "\n",
              "    [theme=dark] .colab-df-convert {\n",
              "      background-color: #3B4455;\n",
              "      fill: #D2E3FC;\n",
              "    }\n",
              "\n",
              "    [theme=dark] .colab-df-convert:hover {\n",
              "      background-color: #434B5C;\n",
              "      box-shadow: 0px 1px 3px 1px rgba(0, 0, 0, 0.15);\n",
              "      filter: drop-shadow(0px 1px 2px rgba(0, 0, 0, 0.3));\n",
              "      fill: #FFFFFF;\n",
              "    }\n",
              "  </style>\n",
              "\n",
              "      <script>\n",
              "        const buttonEl =\n",
              "          document.querySelector('#df-d5516a21-6692-446e-87bd-d11610869144 button.colab-df-convert');\n",
              "        buttonEl.style.display =\n",
              "          google.colab.kernel.accessAllowed ? 'block' : 'none';\n",
              "\n",
              "        async function convertToInteractive(key) {\n",
              "          const element = document.querySelector('#df-d5516a21-6692-446e-87bd-d11610869144');\n",
              "          const dataTable =\n",
              "            await google.colab.kernel.invokeFunction('convertToInteractive',\n",
              "                                                     [key], {});\n",
              "          if (!dataTable) return;\n",
              "\n",
              "          const docLinkHtml = 'Like what you see? Visit the ' +\n",
              "            '<a target=\"_blank\" href=https://colab.research.google.com/notebooks/data_table.ipynb>data table notebook</a>'\n",
              "            + ' to learn more about interactive tables.';\n",
              "          element.innerHTML = '';\n",
              "          dataTable['output_type'] = 'display_data';\n",
              "          await google.colab.output.renderOutput(dataTable, element);\n",
              "          const docLink = document.createElement('div');\n",
              "          docLink.innerHTML = docLinkHtml;\n",
              "          element.appendChild(docLink);\n",
              "        }\n",
              "      </script>\n",
              "    </div>\n",
              "  </div>\n",
              "  "
            ]
          },
          "metadata": {},
          "execution_count": 46
        }
      ]
    },
    {
      "cell_type": "markdown",
      "source": [
        "# Test avec un exemple de paragraphe"
      ],
      "metadata": {
        "id": "X2wR5X1PNBfq"
      }
    },
    {
      "cell_type": "code",
      "source": [
        "text_paragraphe = \"Nearly ten years had passed since the Dursleys had woken up to find their nephew on the front step, but Privet Drive had hardly changed at all. The sun rose on the same tidy front gardens and lit up the brass number four on the Dursleys' front door. It crept into their living room, which was almost exactly the same as it had been on the night when Mr. Dursley had seen that fateful news report about the owls. Only the photographs on the mantelpiece really showed how much time had passed.\""
      ],
      "metadata": {
        "id": "ZEEdY9bqNFur"
      },
      "execution_count": 6,
      "outputs": []
    },
    {
      "cell_type": "code",
      "source": [
        "Dataframe = segmenter(text_paragraphe)\n",
        "Dataframe"
      ],
      "metadata": {
        "colab": {
          "base_uri": "https://localhost:8080/"
        },
        "id": "_Nr3D4s6OWmh",
        "outputId": "9be7675e-c92f-4a0e-a13d-0c50569d303d"
      },
      "execution_count": 7,
      "outputs": [
        {
          "output_type": "execute_result",
          "data": {
            "text/plain": [
              "['Nearly ten years had passed since the Dursleys had woken up to find their nephew on the front step, but Privet Drive had hardly changed at all.',\n",
              " \"The sun rose on the same tidy front gardens and lit up the brass number four on the Dursleys' front door.\",\n",
              " 'It crept into their living room, which was almost exactly the same as it had been on the night when Mr. Dursley had seen that fateful news report about the owls.',\n",
              " 'Only the photographs on the mantelpiece really showed how much time had passed.']"
            ]
          },
          "metadata": {},
          "execution_count": 7
        }
      ]
    },
    {
      "cell_type": "code",
      "source": [
        "df = fenetre_coulissante(text_paragraphe, 2)"
      ],
      "metadata": {
        "id": "oSRJwzWGOizS"
      },
      "execution_count": 18,
      "outputs": []
    },
    {
      "cell_type": "code",
      "source": [
        "df"
      ],
      "metadata": {
        "colab": {
          "base_uri": "https://localhost:8080/",
          "height": 206
        },
        "id": "oji1PJXmUG9G",
        "outputId": "08124847-0464-49b1-9fc7-3899dd037717"
      },
      "execution_count": 19,
      "outputs": [
        {
          "output_type": "execute_result",
          "data": {
            "text/plain": [
              "                                             premise  \\\n",
              "0  Nearly ten years had passed since the Dursleys...   \n",
              "1  Nearly ten years had passed since the Dursleys...   \n",
              "2  The sun rose on the same tidy front gardens an...   \n",
              "3  The sun rose on the same tidy front gardens an...   \n",
              "4  It crept into their living room, which was alm...   \n",
              "\n",
              "                                         hypotesysis  \n",
              "0  The sun rose on the same tidy front gardens an...  \n",
              "1  It crept into their living room, which was alm...  \n",
              "2  It crept into their living room, which was alm...  \n",
              "3  Only the photographs on the mantelpiece really...  \n",
              "4  Only the photographs on the mantelpiece really...  "
            ],
            "text/html": [
              "\n",
              "  <div id=\"df-4572527b-6b04-40c0-9c66-8e3634c9b972\">\n",
              "    <div class=\"colab-df-container\">\n",
              "      <div>\n",
              "<style scoped>\n",
              "    .dataframe tbody tr th:only-of-type {\n",
              "        vertical-align: middle;\n",
              "    }\n",
              "\n",
              "    .dataframe tbody tr th {\n",
              "        vertical-align: top;\n",
              "    }\n",
              "\n",
              "    .dataframe thead th {\n",
              "        text-align: right;\n",
              "    }\n",
              "</style>\n",
              "<table border=\"1\" class=\"dataframe\">\n",
              "  <thead>\n",
              "    <tr style=\"text-align: right;\">\n",
              "      <th></th>\n",
              "      <th>premise</th>\n",
              "      <th>hypotesysis</th>\n",
              "    </tr>\n",
              "  </thead>\n",
              "  <tbody>\n",
              "    <tr>\n",
              "      <th>0</th>\n",
              "      <td>Nearly ten years had passed since the Dursleys...</td>\n",
              "      <td>The sun rose on the same tidy front gardens an...</td>\n",
              "    </tr>\n",
              "    <tr>\n",
              "      <th>1</th>\n",
              "      <td>Nearly ten years had passed since the Dursleys...</td>\n",
              "      <td>It crept into their living room, which was alm...</td>\n",
              "    </tr>\n",
              "    <tr>\n",
              "      <th>2</th>\n",
              "      <td>The sun rose on the same tidy front gardens an...</td>\n",
              "      <td>It crept into their living room, which was alm...</td>\n",
              "    </tr>\n",
              "    <tr>\n",
              "      <th>3</th>\n",
              "      <td>The sun rose on the same tidy front gardens an...</td>\n",
              "      <td>Only the photographs on the mantelpiece really...</td>\n",
              "    </tr>\n",
              "    <tr>\n",
              "      <th>4</th>\n",
              "      <td>It crept into their living room, which was alm...</td>\n",
              "      <td>Only the photographs on the mantelpiece really...</td>\n",
              "    </tr>\n",
              "  </tbody>\n",
              "</table>\n",
              "</div>\n",
              "      <button class=\"colab-df-convert\" onclick=\"convertToInteractive('df-4572527b-6b04-40c0-9c66-8e3634c9b972')\"\n",
              "              title=\"Convert this dataframe to an interactive table.\"\n",
              "              style=\"display:none;\">\n",
              "        \n",
              "  <svg xmlns=\"http://www.w3.org/2000/svg\" height=\"24px\"viewBox=\"0 0 24 24\"\n",
              "       width=\"24px\">\n",
              "    <path d=\"M0 0h24v24H0V0z\" fill=\"none\"/>\n",
              "    <path d=\"M18.56 5.44l.94 2.06.94-2.06 2.06-.94-2.06-.94-.94-2.06-.94 2.06-2.06.94zm-11 1L8.5 8.5l.94-2.06 2.06-.94-2.06-.94L8.5 2.5l-.94 2.06-2.06.94zm10 10l.94 2.06.94-2.06 2.06-.94-2.06-.94-.94-2.06-.94 2.06-2.06.94z\"/><path d=\"M17.41 7.96l-1.37-1.37c-.4-.4-.92-.59-1.43-.59-.52 0-1.04.2-1.43.59L10.3 9.45l-7.72 7.72c-.78.78-.78 2.05 0 2.83L4 21.41c.39.39.9.59 1.41.59.51 0 1.02-.2 1.41-.59l7.78-7.78 2.81-2.81c.8-.78.8-2.07 0-2.86zM5.41 20L4 18.59l7.72-7.72 1.47 1.35L5.41 20z\"/>\n",
              "  </svg>\n",
              "      </button>\n",
              "      \n",
              "  <style>\n",
              "    .colab-df-container {\n",
              "      display:flex;\n",
              "      flex-wrap:wrap;\n",
              "      gap: 12px;\n",
              "    }\n",
              "\n",
              "    .colab-df-convert {\n",
              "      background-color: #E8F0FE;\n",
              "      border: none;\n",
              "      border-radius: 50%;\n",
              "      cursor: pointer;\n",
              "      display: none;\n",
              "      fill: #1967D2;\n",
              "      height: 32px;\n",
              "      padding: 0 0 0 0;\n",
              "      width: 32px;\n",
              "    }\n",
              "\n",
              "    .colab-df-convert:hover {\n",
              "      background-color: #E2EBFA;\n",
              "      box-shadow: 0px 1px 2px rgba(60, 64, 67, 0.3), 0px 1px 3px 1px rgba(60, 64, 67, 0.15);\n",
              "      fill: #174EA6;\n",
              "    }\n",
              "\n",
              "    [theme=dark] .colab-df-convert {\n",
              "      background-color: #3B4455;\n",
              "      fill: #D2E3FC;\n",
              "    }\n",
              "\n",
              "    [theme=dark] .colab-df-convert:hover {\n",
              "      background-color: #434B5C;\n",
              "      box-shadow: 0px 1px 3px 1px rgba(0, 0, 0, 0.15);\n",
              "      filter: drop-shadow(0px 1px 2px rgba(0, 0, 0, 0.3));\n",
              "      fill: #FFFFFF;\n",
              "    }\n",
              "  </style>\n",
              "\n",
              "      <script>\n",
              "        const buttonEl =\n",
              "          document.querySelector('#df-4572527b-6b04-40c0-9c66-8e3634c9b972 button.colab-df-convert');\n",
              "        buttonEl.style.display =\n",
              "          google.colab.kernel.accessAllowed ? 'block' : 'none';\n",
              "\n",
              "        async function convertToInteractive(key) {\n",
              "          const element = document.querySelector('#df-4572527b-6b04-40c0-9c66-8e3634c9b972');\n",
              "          const dataTable =\n",
              "            await google.colab.kernel.invokeFunction('convertToInteractive',\n",
              "                                                     [key], {});\n",
              "          if (!dataTable) return;\n",
              "\n",
              "          const docLinkHtml = 'Like what you see? Visit the ' +\n",
              "            '<a target=\"_blank\" href=https://colab.research.google.com/notebooks/data_table.ipynb>data table notebook</a>'\n",
              "            + ' to learn more about interactive tables.';\n",
              "          element.innerHTML = '';\n",
              "          dataTable['output_type'] = 'display_data';\n",
              "          await google.colab.output.renderOutput(dataTable, element);\n",
              "          const docLink = document.createElement('div');\n",
              "          docLink.innerHTML = docLinkHtml;\n",
              "          element.appendChild(docLink);\n",
              "        }\n",
              "      </script>\n",
              "    </div>\n",
              "  </div>\n",
              "  "
            ]
          },
          "metadata": {},
          "execution_count": 19
        }
      ]
    },
    {
      "cell_type": "code",
      "source": [
        " #AllenNLP Library\n",
        "!pip install  -U allennlp_models "
      ],
      "metadata": {
        "id": "hT7YIvkmUPPN"
      },
      "execution_count": null,
      "outputs": []
    },
    {
      "cell_type": "code",
      "source": [
        "from allennlp_models.pretrained import load_predictor\n",
        "import numpy as np\n",
        "import pandas as pd \n",
        " #Model\n",
        "model = load_predictor(\"pair-classification-roberta-snli\")"
      ],
      "metadata": {
        "id": "tKf4X9SZUyAU"
      },
      "execution_count": 11,
      "outputs": []
    },
    {
      "cell_type": "code",
      "source": [
        " \n",
        "label_mapping = ['entailment', 'contradiction', 'neutral']\n",
        "sentence1  = df['premise'].values\n",
        "sentence2 = df['hypotesysis'].values\n",
        "label_mapping = ['entailment', 'contradiction', 'neutral']"
      ],
      "metadata": {
        "id": "Utd19_EUVZWu"
      },
      "execution_count": 67,
      "outputs": []
    },
    {
      "cell_type": "code",
      "source": [
        "score_NLi =  []\n",
        "targets = []\n",
        "probab = []\n",
        "for i in range(5):\n",
        "  preds = model.predict(sentence1[i],sentence2[i])\n",
        "  labels = [label_mapping[score_max] for score_max in np.array([preds['logits']], dtype=\"float32\").argmax(axis=1)]\n",
        "  score_NLi.append(labels)\n",
        "  targets.append(max(preds['logits']))\n",
        "  probab.append(max(preds['probs']))\n",
        "\n"
      ],
      "metadata": {
        "id": "mEw3xEbdVl30"
      },
      "execution_count": 68,
      "outputs": []
    },
    {
      "cell_type": "code",
      "source": [
        "df['Score'] = targets\n",
        "df['Targets'] = score_NLi\n",
        "df['probab'] = probab"
      ],
      "metadata": {
        "id": "pAndhWE3X9wt"
      },
      "execution_count": 69,
      "outputs": []
    },
    {
      "cell_type": "code",
      "source": [
        "df"
      ],
      "metadata": {
        "colab": {
          "base_uri": "https://localhost:8080/",
          "height": 206
        },
        "id": "lwd3gXZ1Ylmi",
        "outputId": "7863b9eb-2831-4059-a078-0438bed47fac"
      },
      "execution_count": 70,
      "outputs": [
        {
          "output_type": "execute_result",
          "data": {
            "text/plain": [
              "                                             premise  \\\n",
              "0  Nearly ten years had passed since the Dursleys...   \n",
              "1  Nearly ten years had passed since the Dursleys...   \n",
              "2  The sun rose on the same tidy front gardens an...   \n",
              "3  The sun rose on the same tidy front gardens an...   \n",
              "4  It crept into their living room, which was alm...   \n",
              "\n",
              "                                         hypotesysis     Score  \\\n",
              "0  The sun rose on the same tidy front gardens an...  2.641618   \n",
              "1  It crept into their living room, which was alm...  0.949426   \n",
              "2  It crept into their living room, which was alm...  4.203641   \n",
              "3  Only the photographs on the mantelpiece really...  4.800231   \n",
              "4  Only the photographs on the mantelpiece really...  3.767888   \n",
              "\n",
              "           Targets    probab  \n",
              "0  [contradiction]  0.913986  \n",
              "1  [contradiction]  0.655547  \n",
              "2  [contradiction]  0.996696  \n",
              "3  [contradiction]  0.998220  \n",
              "4  [contradiction]  0.988768  "
            ],
            "text/html": [
              "\n",
              "  <div id=\"df-69656bd8-31cc-416f-a11d-b9072e0f11a3\">\n",
              "    <div class=\"colab-df-container\">\n",
              "      <div>\n",
              "<style scoped>\n",
              "    .dataframe tbody tr th:only-of-type {\n",
              "        vertical-align: middle;\n",
              "    }\n",
              "\n",
              "    .dataframe tbody tr th {\n",
              "        vertical-align: top;\n",
              "    }\n",
              "\n",
              "    .dataframe thead th {\n",
              "        text-align: right;\n",
              "    }\n",
              "</style>\n",
              "<table border=\"1\" class=\"dataframe\">\n",
              "  <thead>\n",
              "    <tr style=\"text-align: right;\">\n",
              "      <th></th>\n",
              "      <th>premise</th>\n",
              "      <th>hypotesysis</th>\n",
              "      <th>Score</th>\n",
              "      <th>Targets</th>\n",
              "      <th>probab</th>\n",
              "    </tr>\n",
              "  </thead>\n",
              "  <tbody>\n",
              "    <tr>\n",
              "      <th>0</th>\n",
              "      <td>Nearly ten years had passed since the Dursleys...</td>\n",
              "      <td>The sun rose on the same tidy front gardens an...</td>\n",
              "      <td>2.641618</td>\n",
              "      <td>[contradiction]</td>\n",
              "      <td>0.913986</td>\n",
              "    </tr>\n",
              "    <tr>\n",
              "      <th>1</th>\n",
              "      <td>Nearly ten years had passed since the Dursleys...</td>\n",
              "      <td>It crept into their living room, which was alm...</td>\n",
              "      <td>0.949426</td>\n",
              "      <td>[contradiction]</td>\n",
              "      <td>0.655547</td>\n",
              "    </tr>\n",
              "    <tr>\n",
              "      <th>2</th>\n",
              "      <td>The sun rose on the same tidy front gardens an...</td>\n",
              "      <td>It crept into their living room, which was alm...</td>\n",
              "      <td>4.203641</td>\n",
              "      <td>[contradiction]</td>\n",
              "      <td>0.996696</td>\n",
              "    </tr>\n",
              "    <tr>\n",
              "      <th>3</th>\n",
              "      <td>The sun rose on the same tidy front gardens an...</td>\n",
              "      <td>Only the photographs on the mantelpiece really...</td>\n",
              "      <td>4.800231</td>\n",
              "      <td>[contradiction]</td>\n",
              "      <td>0.998220</td>\n",
              "    </tr>\n",
              "    <tr>\n",
              "      <th>4</th>\n",
              "      <td>It crept into their living room, which was alm...</td>\n",
              "      <td>Only the photographs on the mantelpiece really...</td>\n",
              "      <td>3.767888</td>\n",
              "      <td>[contradiction]</td>\n",
              "      <td>0.988768</td>\n",
              "    </tr>\n",
              "  </tbody>\n",
              "</table>\n",
              "</div>\n",
              "      <button class=\"colab-df-convert\" onclick=\"convertToInteractive('df-69656bd8-31cc-416f-a11d-b9072e0f11a3')\"\n",
              "              title=\"Convert this dataframe to an interactive table.\"\n",
              "              style=\"display:none;\">\n",
              "        \n",
              "  <svg xmlns=\"http://www.w3.org/2000/svg\" height=\"24px\"viewBox=\"0 0 24 24\"\n",
              "       width=\"24px\">\n",
              "    <path d=\"M0 0h24v24H0V0z\" fill=\"none\"/>\n",
              "    <path d=\"M18.56 5.44l.94 2.06.94-2.06 2.06-.94-2.06-.94-.94-2.06-.94 2.06-2.06.94zm-11 1L8.5 8.5l.94-2.06 2.06-.94-2.06-.94L8.5 2.5l-.94 2.06-2.06.94zm10 10l.94 2.06.94-2.06 2.06-.94-2.06-.94-.94-2.06-.94 2.06-2.06.94z\"/><path d=\"M17.41 7.96l-1.37-1.37c-.4-.4-.92-.59-1.43-.59-.52 0-1.04.2-1.43.59L10.3 9.45l-7.72 7.72c-.78.78-.78 2.05 0 2.83L4 21.41c.39.39.9.59 1.41.59.51 0 1.02-.2 1.41-.59l7.78-7.78 2.81-2.81c.8-.78.8-2.07 0-2.86zM5.41 20L4 18.59l7.72-7.72 1.47 1.35L5.41 20z\"/>\n",
              "  </svg>\n",
              "      </button>\n",
              "      \n",
              "  <style>\n",
              "    .colab-df-container {\n",
              "      display:flex;\n",
              "      flex-wrap:wrap;\n",
              "      gap: 12px;\n",
              "    }\n",
              "\n",
              "    .colab-df-convert {\n",
              "      background-color: #E8F0FE;\n",
              "      border: none;\n",
              "      border-radius: 50%;\n",
              "      cursor: pointer;\n",
              "      display: none;\n",
              "      fill: #1967D2;\n",
              "      height: 32px;\n",
              "      padding: 0 0 0 0;\n",
              "      width: 32px;\n",
              "    }\n",
              "\n",
              "    .colab-df-convert:hover {\n",
              "      background-color: #E2EBFA;\n",
              "      box-shadow: 0px 1px 2px rgba(60, 64, 67, 0.3), 0px 1px 3px 1px rgba(60, 64, 67, 0.15);\n",
              "      fill: #174EA6;\n",
              "    }\n",
              "\n",
              "    [theme=dark] .colab-df-convert {\n",
              "      background-color: #3B4455;\n",
              "      fill: #D2E3FC;\n",
              "    }\n",
              "\n",
              "    [theme=dark] .colab-df-convert:hover {\n",
              "      background-color: #434B5C;\n",
              "      box-shadow: 0px 1px 3px 1px rgba(0, 0, 0, 0.15);\n",
              "      filter: drop-shadow(0px 1px 2px rgba(0, 0, 0, 0.3));\n",
              "      fill: #FFFFFF;\n",
              "    }\n",
              "  </style>\n",
              "\n",
              "      <script>\n",
              "        const buttonEl =\n",
              "          document.querySelector('#df-69656bd8-31cc-416f-a11d-b9072e0f11a3 button.colab-df-convert');\n",
              "        buttonEl.style.display =\n",
              "          google.colab.kernel.accessAllowed ? 'block' : 'none';\n",
              "\n",
              "        async function convertToInteractive(key) {\n",
              "          const element = document.querySelector('#df-69656bd8-31cc-416f-a11d-b9072e0f11a3');\n",
              "          const dataTable =\n",
              "            await google.colab.kernel.invokeFunction('convertToInteractive',\n",
              "                                                     [key], {});\n",
              "          if (!dataTable) return;\n",
              "\n",
              "          const docLinkHtml = 'Like what you see? Visit the ' +\n",
              "            '<a target=\"_blank\" href=https://colab.research.google.com/notebooks/data_table.ipynb>data table notebook</a>'\n",
              "            + ' to learn more about interactive tables.';\n",
              "          element.innerHTML = '';\n",
              "          dataTable['output_type'] = 'display_data';\n",
              "          await google.colab.output.renderOutput(dataTable, element);\n",
              "          const docLink = document.createElement('div');\n",
              "          docLink.innerHTML = docLinkHtml;\n",
              "          element.appendChild(docLink);\n",
              "        }\n",
              "      </script>\n",
              "    </div>\n",
              "  </div>\n",
              "  "
            ]
          },
          "metadata": {},
          "execution_count": 70
        }
      ]
    },
    {
      "cell_type": "code",
      "source": [
        "sentence1  = df1['premise'].values\n",
        "sentence2 = df1['hypotesysis'].values\n",
        "label_mapping = ['entailment', 'contradiction', 'neutral']\n",
        "\n",
        "score_NLi =  []\n",
        "targets = []\n",
        "probab = []\n",
        "for i in range(6):\n",
        "  preds = model.predict(sentence1[i],sentence2[i])\n",
        "  labels = [label_mapping[score_max] for score_max in np.array([preds['logits']], dtype=\"float32\").argmax(axis=1)]\n",
        "  score_NLi.append(labels)\n",
        "  targets.append(max(preds['logits']))\n",
        "  probab.append(max(preds['probs']))\n"
      ],
      "metadata": {
        "id": "keYY_ciYaoY9"
      },
      "execution_count": 71,
      "outputs": []
    },
    {
      "cell_type": "code",
      "source": [
        "df1['Score'] = targets\n",
        "df1['Targets'] = score_NLi\n",
        "df1['probab'] = probab"
      ],
      "metadata": {
        "id": "HSulmoRea_WQ"
      },
      "execution_count": 72,
      "outputs": []
    },
    {
      "cell_type": "code",
      "source": [
        "df1"
      ],
      "metadata": {
        "colab": {
          "base_uri": "https://localhost:8080/",
          "height": 238
        },
        "id": "HQCz9YdfayQA",
        "outputId": "7903bca5-1c45-4e3f-a797-bab68ca328fc"
      },
      "execution_count": 73,
      "outputs": [
        {
          "output_type": "execute_result",
          "data": {
            "text/plain": [
              "                                             premise  \\\n",
              "0  I think that I would agree to leave my country...   \n",
              "1  I think that I would agree to leave my country...   \n",
              "2  I think that I would agree to leave my country...   \n",
              "3  I would become a beautician and create my own ...   \n",
              "4  I would become a beautician and create my own ...   \n",
              "5           I would go abroad to increase my skills.   \n",
              "\n",
              "                                         hypotesysis     Score  \\\n",
              "0  I would become a beautician and create my own ...  1.918127   \n",
              "1           I would go abroad to increase my skills.  5.175176   \n",
              "2  Moreover, I would have the possibility to disc...  4.201128   \n",
              "3           I would go abroad to increase my skills.  2.688026   \n",
              "4  Moreover, I would have the possibility to disc...  3.837814   \n",
              "5  Moreover, I would have the possibility to disc...  2.188556   \n",
              "\n",
              "           Targets    probab  \n",
              "0        [neutral]  0.651527  \n",
              "1        [neutral]  0.998511  \n",
              "2        [neutral]  0.994870  \n",
              "3        [neutral]  0.933868  \n",
              "4  [contradiction]  0.991977  \n",
              "5        [neutral]  0.940172  "
            ],
            "text/html": [
              "\n",
              "  <div id=\"df-b031326a-2a9e-4b4e-a6dc-88e9970c530c\">\n",
              "    <div class=\"colab-df-container\">\n",
              "      <div>\n",
              "<style scoped>\n",
              "    .dataframe tbody tr th:only-of-type {\n",
              "        vertical-align: middle;\n",
              "    }\n",
              "\n",
              "    .dataframe tbody tr th {\n",
              "        vertical-align: top;\n",
              "    }\n",
              "\n",
              "    .dataframe thead th {\n",
              "        text-align: right;\n",
              "    }\n",
              "</style>\n",
              "<table border=\"1\" class=\"dataframe\">\n",
              "  <thead>\n",
              "    <tr style=\"text-align: right;\">\n",
              "      <th></th>\n",
              "      <th>premise</th>\n",
              "      <th>hypotesysis</th>\n",
              "      <th>Score</th>\n",
              "      <th>Targets</th>\n",
              "      <th>probab</th>\n",
              "    </tr>\n",
              "  </thead>\n",
              "  <tbody>\n",
              "    <tr>\n",
              "      <th>0</th>\n",
              "      <td>I think that I would agree to leave my country...</td>\n",
              "      <td>I would become a beautician and create my own ...</td>\n",
              "      <td>1.918127</td>\n",
              "      <td>[neutral]</td>\n",
              "      <td>0.651527</td>\n",
              "    </tr>\n",
              "    <tr>\n",
              "      <th>1</th>\n",
              "      <td>I think that I would agree to leave my country...</td>\n",
              "      <td>I would go abroad to increase my skills.</td>\n",
              "      <td>5.175176</td>\n",
              "      <td>[neutral]</td>\n",
              "      <td>0.998511</td>\n",
              "    </tr>\n",
              "    <tr>\n",
              "      <th>2</th>\n",
              "      <td>I think that I would agree to leave my country...</td>\n",
              "      <td>Moreover, I would have the possibility to disc...</td>\n",
              "      <td>4.201128</td>\n",
              "      <td>[neutral]</td>\n",
              "      <td>0.994870</td>\n",
              "    </tr>\n",
              "    <tr>\n",
              "      <th>3</th>\n",
              "      <td>I would become a beautician and create my own ...</td>\n",
              "      <td>I would go abroad to increase my skills.</td>\n",
              "      <td>2.688026</td>\n",
              "      <td>[neutral]</td>\n",
              "      <td>0.933868</td>\n",
              "    </tr>\n",
              "    <tr>\n",
              "      <th>4</th>\n",
              "      <td>I would become a beautician and create my own ...</td>\n",
              "      <td>Moreover, I would have the possibility to disc...</td>\n",
              "      <td>3.837814</td>\n",
              "      <td>[contradiction]</td>\n",
              "      <td>0.991977</td>\n",
              "    </tr>\n",
              "    <tr>\n",
              "      <th>5</th>\n",
              "      <td>I would go abroad to increase my skills.</td>\n",
              "      <td>Moreover, I would have the possibility to disc...</td>\n",
              "      <td>2.188556</td>\n",
              "      <td>[neutral]</td>\n",
              "      <td>0.940172</td>\n",
              "    </tr>\n",
              "  </tbody>\n",
              "</table>\n",
              "</div>\n",
              "      <button class=\"colab-df-convert\" onclick=\"convertToInteractive('df-b031326a-2a9e-4b4e-a6dc-88e9970c530c')\"\n",
              "              title=\"Convert this dataframe to an interactive table.\"\n",
              "              style=\"display:none;\">\n",
              "        \n",
              "  <svg xmlns=\"http://www.w3.org/2000/svg\" height=\"24px\"viewBox=\"0 0 24 24\"\n",
              "       width=\"24px\">\n",
              "    <path d=\"M0 0h24v24H0V0z\" fill=\"none\"/>\n",
              "    <path d=\"M18.56 5.44l.94 2.06.94-2.06 2.06-.94-2.06-.94-.94-2.06-.94 2.06-2.06.94zm-11 1L8.5 8.5l.94-2.06 2.06-.94-2.06-.94L8.5 2.5l-.94 2.06-2.06.94zm10 10l.94 2.06.94-2.06 2.06-.94-2.06-.94-.94-2.06-.94 2.06-2.06.94z\"/><path d=\"M17.41 7.96l-1.37-1.37c-.4-.4-.92-.59-1.43-.59-.52 0-1.04.2-1.43.59L10.3 9.45l-7.72 7.72c-.78.78-.78 2.05 0 2.83L4 21.41c.39.39.9.59 1.41.59.51 0 1.02-.2 1.41-.59l7.78-7.78 2.81-2.81c.8-.78.8-2.07 0-2.86zM5.41 20L4 18.59l7.72-7.72 1.47 1.35L5.41 20z\"/>\n",
              "  </svg>\n",
              "      </button>\n",
              "      \n",
              "  <style>\n",
              "    .colab-df-container {\n",
              "      display:flex;\n",
              "      flex-wrap:wrap;\n",
              "      gap: 12px;\n",
              "    }\n",
              "\n",
              "    .colab-df-convert {\n",
              "      background-color: #E8F0FE;\n",
              "      border: none;\n",
              "      border-radius: 50%;\n",
              "      cursor: pointer;\n",
              "      display: none;\n",
              "      fill: #1967D2;\n",
              "      height: 32px;\n",
              "      padding: 0 0 0 0;\n",
              "      width: 32px;\n",
              "    }\n",
              "\n",
              "    .colab-df-convert:hover {\n",
              "      background-color: #E2EBFA;\n",
              "      box-shadow: 0px 1px 2px rgba(60, 64, 67, 0.3), 0px 1px 3px 1px rgba(60, 64, 67, 0.15);\n",
              "      fill: #174EA6;\n",
              "    }\n",
              "\n",
              "    [theme=dark] .colab-df-convert {\n",
              "      background-color: #3B4455;\n",
              "      fill: #D2E3FC;\n",
              "    }\n",
              "\n",
              "    [theme=dark] .colab-df-convert:hover {\n",
              "      background-color: #434B5C;\n",
              "      box-shadow: 0px 1px 3px 1px rgba(0, 0, 0, 0.15);\n",
              "      filter: drop-shadow(0px 1px 2px rgba(0, 0, 0, 0.3));\n",
              "      fill: #FFFFFF;\n",
              "    }\n",
              "  </style>\n",
              "\n",
              "      <script>\n",
              "        const buttonEl =\n",
              "          document.querySelector('#df-b031326a-2a9e-4b4e-a6dc-88e9970c530c button.colab-df-convert');\n",
              "        buttonEl.style.display =\n",
              "          google.colab.kernel.accessAllowed ? 'block' : 'none';\n",
              "\n",
              "        async function convertToInteractive(key) {\n",
              "          const element = document.querySelector('#df-b031326a-2a9e-4b4e-a6dc-88e9970c530c');\n",
              "          const dataTable =\n",
              "            await google.colab.kernel.invokeFunction('convertToInteractive',\n",
              "                                                     [key], {});\n",
              "          if (!dataTable) return;\n",
              "\n",
              "          const docLinkHtml = 'Like what you see? Visit the ' +\n",
              "            '<a target=\"_blank\" href=https://colab.research.google.com/notebooks/data_table.ipynb>data table notebook</a>'\n",
              "            + ' to learn more about interactive tables.';\n",
              "          element.innerHTML = '';\n",
              "          dataTable['output_type'] = 'display_data';\n",
              "          await google.colab.output.renderOutput(dataTable, element);\n",
              "          const docLink = document.createElement('div');\n",
              "          docLink.innerHTML = docLinkHtml;\n",
              "          element.appendChild(docLink);\n",
              "        }\n",
              "      </script>\n",
              "    </div>\n",
              "  </div>\n",
              "  "
            ]
          },
          "metadata": {},
          "execution_count": 73
        }
      ]
    }
  ]
}