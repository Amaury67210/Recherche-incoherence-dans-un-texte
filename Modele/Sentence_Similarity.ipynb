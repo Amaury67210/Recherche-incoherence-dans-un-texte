{
  "nbformat": 4,
  "nbformat_minor": 0,
  "metadata": {
    "colab": {
      "provenance": []
    },
    "kernelspec": {
      "name": "python3",
      "display_name": "Python 3"
    },
    "language_info": {
      "name": "python"
    }
  },
  "cells": [
    {
      "cell_type": "code",
      "execution_count": null,
      "metadata": {
        "id": "Ba3AKyFj9p32"
      },
      "outputs": [],
      "source": [
        "pip install -U sentence-transformers"
      ]
    },
    {
      "cell_type": "code",
      "source": [
        "from sentence_transformers import SentenceTransformer, util\n",
        " \n",
        "model = SentenceTransformer('sentence-transformers/all-MiniLM-L6-v2')\n"
      ],
      "metadata": {
        "id": "d4DDvpp998R_"
      },
      "execution_count": 10,
      "outputs": []
    },
    {
      "cell_type": "code",
      "source": [
        "sentences = [\"Two women are wandering along the shore drinking iced tea.\", \"Two women are sitting on a blanket near some rocks talking about politics.\"]\n",
        " \n",
        "\n",
        "#Compute embedding for both lists\n",
        "embedding_1= model.encode(sentences[0], convert_to_tensor=True)\n",
        "embedding_2 = model.encode(sentences[1], convert_to_tensor=True)\n",
        "\n",
        "util.pytorch_cos_sim(embedding_1, embedding_2)"
      ],
      "metadata": {
        "colab": {
          "base_uri": "https://localhost:8080/"
        },
        "id": "1oJPDQuI-yj4",
        "outputId": "4fc9af93-cefb-4daa-a0f1-1dbefffd760b"
      },
      "execution_count": 11,
      "outputs": [
        {
          "output_type": "execute_result",
          "data": {
            "text/plain": [
              "tensor([[0.3126]])"
            ]
          },
          "metadata": {},
          "execution_count": 11
        }
      ]
    }
  ]
}